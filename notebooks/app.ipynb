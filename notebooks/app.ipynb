{
 "cells": [
  {
   "cell_type": "code",
   "execution_count": 9,
   "id": "41b1b2b7",
   "metadata": {},
   "outputs": [],
   "source": [
    "import pandas as pd\n",
    "import numpy as np\n",
    "import openpyxl as xl\n",
    "import seaborn as sns\n",
    "import matplotlib.pyplot as plt"
   ]
  },
  {
   "cell_type": "code",
   "execution_count": null,
   "id": "d4234e88",
   "metadata": {},
   "outputs": [
    {
     "name": "stdout",
     "output_type": "stream",
     "text": [
      "['CONSUMO E NUMCONS SAM', 'CONSUMO E NUMCONS SAM UF', 'SETOR INDUSTRIAL POR RG', 'SETOR INDUSTRIAL POR UF', 'CONSUMO_BEN_RG_1970-1989', 'CONSUMO_ELETROBRAS_1990-2003', 'ANALISE CONS NUMCONS SAM', 'ANALISE CONS NUMCONS SAM UF', 'ANALISE SETOR IND POR RG', 'ANALISE SETOR IND POR UF']\n"
     ]
    }
   ],
   "source": [
    "df_0 = pd.ExcelFile('../data/raw.xlsx').sheet_names\n",
    "print(df_0)\n",
    "\n",
    "for i in range(len(df_0)):\n",
    "    df = pd.read_excel('../data/raw.xlsx', sheet_name=i)\n",
    "    df.to_csv(f'../data/raw_{i}.csv', index=False)\n"
   ]
  },
  {
   "cell_type": "code",
   "execution_count": 1,
   "id": "b1547a7e",
   "metadata": {},
   "outputs": [
    {
     "ename": "NameError",
     "evalue": "name 'pd' is not defined",
     "output_type": "error",
     "traceback": [
      "\u001b[31m---------------------------------------------------------------------------\u001b[39m",
      "\u001b[31mNameError\u001b[39m                                 Traceback (most recent call last)",
      "\u001b[36mCell\u001b[39m\u001b[36m \u001b[39m\u001b[32mIn[1]\u001b[39m\u001b[32m, line 33\u001b[39m\n\u001b[32m     29\u001b[39m     ax.set_ylabel(\u001b[33m'\u001b[39m\u001b[33mFrequencia\u001b[39m\u001b[33m'\u001b[39m)\n\u001b[32m     30\u001b[39m     plt.show()\n\u001b[32m---> \u001b[39m\u001b[32m33\u001b[39m \u001b[43mnumbers_col\u001b[49m\u001b[43m(\u001b[49m\u001b[43m)\u001b[49m\n\u001b[32m     34\u001b[39m hist_consumo()\n",
      "\u001b[36mCell\u001b[39m\u001b[36m \u001b[39m\u001b[32mIn[1]\u001b[39m\u001b[32m, line 2\u001b[39m, in \u001b[36mnumbers_col\u001b[39m\u001b[34m()\u001b[39m\n\u001b[32m      1\u001b[39m \u001b[38;5;28;01mdef\u001b[39;00m\u001b[38;5;250m \u001b[39m\u001b[34mnumbers_col\u001b[39m():\n\u001b[32m----> \u001b[39m\u001b[32m2\u001b[39m     df = \u001b[43mpd\u001b[49m.read_csv(\u001b[33m'\u001b[39m\u001b[33m../data/raw_0.csv\u001b[39m\u001b[33m'\u001b[39m)\n\u001b[32m      3\u001b[39m     numeric_cols = df.select_dtypes(include=\u001b[33m'\u001b[39m\u001b[33mnumber\u001b[39m\u001b[33m'\u001b[39m).columns\n\u001b[32m      4\u001b[39m     \u001b[38;5;28;01mfor\u001b[39;00m col \u001b[38;5;129;01min\u001b[39;00m numeric_cols:\n",
      "\u001b[31mNameError\u001b[39m: name 'pd' is not defined"
     ]
    }
   ],
   "source": [
    "\n",
    "def numbers_col():\n",
    "    df = pd.read_csv('../data/raw_0.csv')\n",
    "    numeric_cols = df.select_dtypes(include='number').columns\n",
    "    for col in numeric_cols:\n",
    "        plt.figure(figsize=(6,1))\n",
    "        sns.boxplot(x=df[col])\n",
    "        plt.title(f'Boxplot de {col}')\n",
    "        plt.show()\n",
    "\n",
    "#consumo = df_0['Consumo']\n",
    "#print(consumo)\n",
    "#consumo_media = consumo.mean()\n",
    "#print(consumo_media)\n",
    "#consumo_mediana = consumo.median()\n",
    "#print(consumo_mediana)\n",
    "#consumo_moda = consumo.mode()\n",
    "#print(consumo_moda)\n",
    "\n",
    "\n",
    "\n",
    "def hist_consumo():\n",
    "    df = pd.read_csv('../data/raw_0.csv')\n",
    "    consumo = df['Consumo']\n",
    "    \n",
    "    fig, ax = plt.subplots(figsize=(6,8))\n",
    "\n",
    "    ax.hist(consumo, bins=12)\n",
    "    ax.set_xlabel('Consumo MW/h')\n",
    "    ax.set_ylabel('Frequencia')\n",
    "    plt.show()\n",
    "\n",
    "\n",
    "numbers_col()\n",
    "hist_consumo()"
   ]
  }
 ],
 "metadata": {
  "kernelspec": {
   "display_name": "Python 3",
   "language": "python",
   "name": "python3"
  },
  "language_info": {
   "codemirror_mode": {
    "name": "ipython",
    "version": 3
   },
   "file_extension": ".py",
   "mimetype": "text/x-python",
   "name": "python",
   "nbconvert_exporter": "python",
   "pygments_lexer": "ipython3",
   "version": "3.13.7"
  }
 },
 "nbformat": 4,
 "nbformat_minor": 5
}
