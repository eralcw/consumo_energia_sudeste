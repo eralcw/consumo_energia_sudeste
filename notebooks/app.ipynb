{
 "cells": [
  {
   "cell_type": "code",
   "execution_count": 16,
   "id": "41b1b2b7",
   "metadata": {},
   "outputs": [],
   "source": [
    "import pandas as pd\n",
    "import numpy as np\n",
    "import openpyxl as xl"
   ]
  },
  {
   "cell_type": "code",
   "execution_count": null,
   "id": "d4234e88",
   "metadata": {},
   "outputs": [
    {
     "name": "stdout",
     "output_type": "stream",
     "text": [
      "['CONSUMO E NUMCONS SAM', 'CONSUMO E NUMCONS SAM UF', 'SETOR INDUSTRIAL POR RG', 'SETOR INDUSTRIAL POR UF', 'CONSUMO_BEN_RG_1970-1989', 'CONSUMO_ELETROBRAS_1990-2003', 'ANALISE CONS NUMCONS SAM', 'ANALISE CONS NUMCONS SAM UF', 'ANALISE SETOR IND POR RG', 'ANALISE SETOR IND POR UF']\n"
     ]
    }
   ],
   "source": [
    "df_0 = pd.ExcelFile('../data/raw.xlsx').sheet_names\n",
    "print(df_0)\n",
    "\n",
    "for i in range(len(df_0)):\n",
    "    df = pd.read_excel('../data/raw.xlsx', sheet_name=i)\n",
    "    df.to_csv(f'../data/raw_{i}.csv', index=False)\n"
   ]
  }
 ],
 "metadata": {
  "kernelspec": {
   "display_name": "Python 3",
   "language": "python",
   "name": "python3"
  },
  "language_info": {
   "codemirror_mode": {
    "name": "ipython",
    "version": 3
   },
   "file_extension": ".py",
   "mimetype": "text/x-python",
   "name": "python",
   "nbconvert_exporter": "python",
   "pygments_lexer": "ipython3",
   "version": "3.13.7"
  }
 },
 "nbformat": 4,
 "nbformat_minor": 5
}
